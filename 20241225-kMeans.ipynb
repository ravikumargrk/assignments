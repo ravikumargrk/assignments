{
 "cells": [
  {
   "cell_type": "code",
   "execution_count": 1,
   "metadata": {},
   "outputs": [
    {
     "name": "stdout",
     "output_type": "stream",
     "text": [
      "--2024-12-25 15:13:30--  https://drive.google.com/uc?export=download&id=1lEccW5Y5_2z00VRtLGOAJOAU6YA9fl6W\n",
      "Resolving drive.google.com (drive.google.com)... 142.250.67.238, 2404:6800:4009:814::200e\n",
      "Connecting to drive.google.com (drive.google.com)|142.250.67.238|:443... connected.\n",
      "HTTP request sent, awaiting response... 303 See Other\n",
      "Location: https://drive.usercontent.google.com/download?id=1lEccW5Y5_2z00VRtLGOAJOAU6YA9fl6W&export=download [following]\n",
      "--2024-12-25 15:13:30--  https://drive.usercontent.google.com/download?id=1lEccW5Y5_2z00VRtLGOAJOAU6YA9fl6W&export=download\n",
      "Resolving drive.usercontent.google.com (drive.usercontent.google.com)... 142.250.182.225, 2404:6800:4009:824::2001\n",
      "Connecting to drive.usercontent.google.com (drive.usercontent.google.com)|142.250.182.225|:443... connected.\n",
      "HTTP request sent, awaiting response... 200 OK\n",
      "Length: 139827 (137K) [application/octet-stream]\n",
      "Saving to: ‘temp/data/20241225-eComm-Dataset.csv’\n",
      "\n",
      "temp/data/20241225- 100%[===================>] 136.55K   747KB/s    in 0.2s    \n",
      "\n",
      "2024-12-25 15:13:33 (747 KB/s) - ‘temp/data/20241225-eComm-Dataset.csv’ saved [139827/139827]\n",
      "\n"
     ]
    }
   ],
   "source": [
    "# data \n",
    "!wget -nc \"https://drive.google.com/uc?export=download&id=1lEccW5Y5_2z00VRtLGOAJOAU6YA9fl6W\" -O temp/data/20241225-eComm-Dataset.csv"
   ]
  },
  {
   "cell_type": "code",
   "execution_count": 4,
   "metadata": {},
   "outputs": [
    {
     "data": {
      "text/html": [
       "<div>\n",
       "<style scoped>\n",
       "    .dataframe tbody tr th:only-of-type {\n",
       "        vertical-align: middle;\n",
       "    }\n",
       "\n",
       "    .dataframe tbody tr th {\n",
       "        vertical-align: top;\n",
       "    }\n",
       "\n",
       "    .dataframe thead th {\n",
       "        text-align: right;\n",
       "    }\n",
       "</style>\n",
       "<table border=\"1\" class=\"dataframe\">\n",
       "  <thead>\n",
       "    <tr style=\"text-align: right;\">\n",
       "      <th></th>\n",
       "      <th>n_clicks</th>\n",
       "      <th>n_visits</th>\n",
       "      <th>amount_spent</th>\n",
       "      <th>amount_discount</th>\n",
       "      <th>days_since_registration</th>\n",
       "      <th>profile_information</th>\n",
       "    </tr>\n",
       "    <tr>\n",
       "      <th>ID</th>\n",
       "      <th></th>\n",
       "      <th></th>\n",
       "      <th></th>\n",
       "      <th></th>\n",
       "      <th></th>\n",
       "      <th></th>\n",
       "    </tr>\n",
       "  </thead>\n",
       "  <tbody>\n",
       "    <tr>\n",
       "      <th>1476</th>\n",
       "      <td>130</td>\n",
       "      <td>65</td>\n",
       "      <td>213.905831</td>\n",
       "      <td>31.600751</td>\n",
       "      <td>233</td>\n",
       "      <td>235</td>\n",
       "    </tr>\n",
       "    <tr>\n",
       "      <th>1535</th>\n",
       "      <td>543</td>\n",
       "      <td>46</td>\n",
       "      <td>639.223004</td>\n",
       "      <td>5.689175</td>\n",
       "      <td>228</td>\n",
       "      <td>170</td>\n",
       "    </tr>\n",
       "    <tr>\n",
       "      <th>1807</th>\n",
       "      <td>520</td>\n",
       "      <td>102</td>\n",
       "      <td>1157.402763</td>\n",
       "      <td>844.321606</td>\n",
       "      <td>247</td>\n",
       "      <td>409</td>\n",
       "    </tr>\n",
       "    <tr>\n",
       "      <th>1727</th>\n",
       "      <td>702</td>\n",
       "      <td>83</td>\n",
       "      <td>1195.903634</td>\n",
       "      <td>850.041757</td>\n",
       "      <td>148</td>\n",
       "      <td>200</td>\n",
       "    </tr>\n",
       "    <tr>\n",
       "      <th>1324</th>\n",
       "      <td>221</td>\n",
       "      <td>84</td>\n",
       "      <td>180.754616</td>\n",
       "      <td>64.283300</td>\n",
       "      <td>243</td>\n",
       "      <td>259</td>\n",
       "    </tr>\n",
       "  </tbody>\n",
       "</table>\n",
       "</div>"
      ],
      "text/plain": [
       "      n_clicks  n_visits  amount_spent  amount_discount  \\\n",
       "ID                                                        \n",
       "1476       130        65    213.905831        31.600751   \n",
       "1535       543        46    639.223004         5.689175   \n",
       "1807       520       102   1157.402763       844.321606   \n",
       "1727       702        83   1195.903634       850.041757   \n",
       "1324       221        84    180.754616        64.283300   \n",
       "\n",
       "      days_since_registration  profile_information  \n",
       "ID                                                  \n",
       "1476                      233                  235  \n",
       "1535                      228                  170  \n",
       "1807                      247                  409  \n",
       "1727                      148                  200  \n",
       "1324                      243                  259  "
      ]
     },
     "execution_count": 4,
     "metadata": {},
     "output_type": "execute_result"
    }
   ],
   "source": [
    "import pandas as pd\n",
    "df = pd.read_csv(\"temp/data/20241225-eComm-Dataset.csv\", index_col='ID')\n",
    "df.head()"
   ]
  },
  {
   "cell_type": "code",
   "execution_count": 12,
   "metadata": {},
   "outputs": [],
   "source": [
    "from sklearn.preprocessing import StandardScaler\n",
    "\n",
    "scaler = StandardScaler()\n",
    "X = scaler.fit_transform(X = df.to_numpy())"
   ]
  },
  {
   "cell_type": "code",
   "execution_count": 15,
   "metadata": {},
   "outputs": [
    {
     "data": {
      "text/plain": [
       "array([-1.92448842, -2.17392389, -1.2378394 , -0.7976828 , -2.02764439,\n",
       "       -2.0080108 ])"
      ]
     },
     "execution_count": 15,
     "metadata": {},
     "output_type": "execute_result"
    }
   ],
   "source": [
    "X.min(axis=0)"
   ]
  },
  {
   "cell_type": "code",
   "execution_count": 41,
   "metadata": {},
   "outputs": [
    {
     "data": {
      "text/plain": [
       "array([[0.95639737, 0.19769927, 0.19267741],\n",
       "       [0.13647397, 0.11108798, 0.69758931]])"
      ]
     },
     "execution_count": 41,
     "metadata": {},
     "output_type": "execute_result"
    }
   ],
   "source": [
    "import numpy as np\n",
    "X_ = np.random.rand(10, 3)\n",
    "\n",
    "cen_ = X_.min(axis=0) + np.multiply(np.random.rand(2, X_.shape[-1]), X_.max(axis=0))\n",
    "\n",
    "cen_"
   ]
  },
  {
   "cell_type": "code",
   "execution_count": 42,
   "metadata": {},
   "outputs": [
    {
     "data": {
      "text/plain": [
       "array([[0.05314575, 0.35672154, 0.23317544],\n",
       "       [0.36317373, 0.93174545, 0.84588157],\n",
       "       [0.99578527, 0.66189959, 0.92056452],\n",
       "       [0.47989112, 0.19103188, 0.13664252],\n",
       "       [0.33769922, 0.80318666, 0.17099733],\n",
       "       [0.18078965, 0.7167105 , 0.97076175],\n",
       "       [0.85209474, 0.83579817, 0.58367642],\n",
       "       [0.97067892, 0.39681766, 0.25785335],\n",
       "       [0.61067082, 0.37526257, 0.82536817],\n",
       "       [0.76574134, 0.03187148, 0.30292623]])"
      ]
     },
     "execution_count": 42,
     "metadata": {},
     "output_type": "execute_result"
    }
   ],
   "source": []
  },
  {
   "cell_type": "code",
   "execution_count": null,
   "metadata": {},
   "outputs": [],
   "source": [
    "# k Means\n",
    "# 1. assign random centroids\n",
    "# 2. assign labels\n",
    "# 3. calculate actual centroids and reassign \n",
    "\n",
    "class kMeans:\n",
    "    def __init__(self, k:int, X: np.ndarray):\n",
    "        self.k = k \n",
    "        self.X = X\n",
    "        self.assign_random_centroids(self)\n",
    "        pass\n",
    "\n",
    "    def assign_random_centroids(self):\n",
    "        self.centroids = self.X.min(axis=0) + np.multiply(np.random.rand(self.k, self.X.shape[-1]), self.X.max(axis=0))\n",
    "    \n",
    "    def assign_labels(self):\n",
    "        pass\n",
    "        "
   ]
  },
  {
   "cell_type": "code",
   "execution_count": null,
   "metadata": {},
   "outputs": [],
   "source": []
  }
 ],
 "metadata": {
  "kernelspec": {
   "display_name": "Python 3",
   "language": "python",
   "name": "python3"
  },
  "language_info": {
   "codemirror_mode": {
    "name": "ipython",
    "version": 3
   },
   "file_extension": ".py",
   "mimetype": "text/x-python",
   "name": "python",
   "nbconvert_exporter": "python",
   "pygments_lexer": "ipython3",
   "version": "3.12.1"
  }
 },
 "nbformat": 4,
 "nbformat_minor": 2
}
