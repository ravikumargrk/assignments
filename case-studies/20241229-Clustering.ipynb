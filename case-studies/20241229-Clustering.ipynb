{
 "cells": [
  {
   "cell_type": "code",
   "execution_count": 194,
   "metadata": {
    "vscode": {
     "languageId": "shellscript"
    }
   },
   "outputs": [],
   "source": [
    "# !wget -nc https://d2beiqkhq929f0.cloudfront.net/public_assets/assets/000/002/856/original/scaler_clustering.csv -O ../temp/data/scaler_clustering.csv"
   ]
  },
  {
   "cell_type": "code",
   "execution_count": 195,
   "metadata": {},
   "outputs": [],
   "source": [
    "import pandas as pd \n",
    "import seaborn as sns\n",
    "import matplotlib.pyplot as plt"
   ]
  },
  {
   "cell_type": "code",
   "execution_count": 196,
   "metadata": {},
   "outputs": [
    {
     "data": {
      "text/html": [
       "<div>\n",
       "<style scoped>\n",
       "    .dataframe tbody tr th:only-of-type {\n",
       "        vertical-align: middle;\n",
       "    }\n",
       "\n",
       "    .dataframe tbody tr th {\n",
       "        vertical-align: top;\n",
       "    }\n",
       "\n",
       "    .dataframe thead th {\n",
       "        text-align: right;\n",
       "    }\n",
       "</style>\n",
       "<table border=\"1\" class=\"dataframe\">\n",
       "  <thead>\n",
       "    <tr style=\"text-align: right;\">\n",
       "      <th></th>\n",
       "      <th>company_hash</th>\n",
       "      <th>email_hash</th>\n",
       "      <th>orgyear</th>\n",
       "      <th>ctc</th>\n",
       "      <th>job_position</th>\n",
       "      <th>ctc_updated_year</th>\n",
       "    </tr>\n",
       "  </thead>\n",
       "  <tbody>\n",
       "    <tr>\n",
       "      <th>0</th>\n",
       "      <td>atrgxnnt xzaxv</td>\n",
       "      <td>6de0a4417d18ab14334c3f43397fc13b30c35149d70c05...</td>\n",
       "      <td>2016.0</td>\n",
       "      <td>1100000</td>\n",
       "      <td>Other</td>\n",
       "      <td>2020.0</td>\n",
       "    </tr>\n",
       "    <tr>\n",
       "      <th>1</th>\n",
       "      <td>qtrxvzwt xzegwgbb rxbxnta</td>\n",
       "      <td>b0aaf1ac138b53cb6e039ba2c3d6604a250d02d5145c10...</td>\n",
       "      <td>2018.0</td>\n",
       "      <td>449999</td>\n",
       "      <td>FullStack Engineer</td>\n",
       "      <td>2019.0</td>\n",
       "    </tr>\n",
       "    <tr>\n",
       "      <th>2</th>\n",
       "      <td>ojzwnvwnxw vx</td>\n",
       "      <td>4860c670bcd48fb96c02a4b0ae3608ae6fdd98176112e9...</td>\n",
       "      <td>2015.0</td>\n",
       "      <td>2000000</td>\n",
       "      <td>Backend Engineer</td>\n",
       "      <td>2020.0</td>\n",
       "    </tr>\n",
       "    <tr>\n",
       "      <th>3</th>\n",
       "      <td>ngpgutaxv</td>\n",
       "      <td>effdede7a2e7c2af664c8a31d9346385016128d66bbc58...</td>\n",
       "      <td>2017.0</td>\n",
       "      <td>700000</td>\n",
       "      <td>Backend Engineer</td>\n",
       "      <td>2019.0</td>\n",
       "    </tr>\n",
       "    <tr>\n",
       "      <th>4</th>\n",
       "      <td>qxen sqghu</td>\n",
       "      <td>6ff54e709262f55cb999a1c1db8436cb2055d8f79ab520...</td>\n",
       "      <td>2017.0</td>\n",
       "      <td>1400000</td>\n",
       "      <td>FullStack Engineer</td>\n",
       "      <td>2019.0</td>\n",
       "    </tr>\n",
       "  </tbody>\n",
       "</table>\n",
       "</div>"
      ],
      "text/plain": [
       "                company_hash  \\\n",
       "0             atrgxnnt xzaxv   \n",
       "1  qtrxvzwt xzegwgbb rxbxnta   \n",
       "2              ojzwnvwnxw vx   \n",
       "3                  ngpgutaxv   \n",
       "4                 qxen sqghu   \n",
       "\n",
       "                                          email_hash  orgyear      ctc  \\\n",
       "0  6de0a4417d18ab14334c3f43397fc13b30c35149d70c05...   2016.0  1100000   \n",
       "1  b0aaf1ac138b53cb6e039ba2c3d6604a250d02d5145c10...   2018.0   449999   \n",
       "2  4860c670bcd48fb96c02a4b0ae3608ae6fdd98176112e9...   2015.0  2000000   \n",
       "3  effdede7a2e7c2af664c8a31d9346385016128d66bbc58...   2017.0   700000   \n",
       "4  6ff54e709262f55cb999a1c1db8436cb2055d8f79ab520...   2017.0  1400000   \n",
       "\n",
       "         job_position  ctc_updated_year  \n",
       "0               Other            2020.0  \n",
       "1  FullStack Engineer            2019.0  \n",
       "2    Backend Engineer            2020.0  \n",
       "3    Backend Engineer            2019.0  \n",
       "4  FullStack Engineer            2019.0  "
      ]
     },
     "execution_count": 196,
     "metadata": {},
     "output_type": "execute_result"
    }
   ],
   "source": [
    "csv_path = '../temp/data/scaler_clustering.csv'\n",
    "df_raw = pd.read_csv(csv_path, index_col=0)\n",
    "\n",
    "df_raw.head()"
   ]
  },
  {
   "cell_type": "markdown",
   "metadata": {},
   "source": [
    "## 1. Problem Statement & EDA\n",
    "### 1.1 Problem\n",
    "To cluster segment of learners at scaler on the basis of their job profile, company, and other features. Ideally, these clusters should have similar characteristics.\n",
    "\n",
    "### 1.2 Shape of data\n",
    "Import the dataset and do usual exploratory data analysis steps like checking the structure & characteristics of the dataset\n",
    "\n",
    "#### 1.2.1 Observations on shape of data"
   ]
  },
  {
   "cell_type": "code",
   "execution_count": 197,
   "metadata": {},
   "outputs": [
    {
     "data": {
      "text/plain": [
       "(205843, 6)"
      ]
     },
     "execution_count": 197,
     "metadata": {},
     "output_type": "execute_result"
    }
   ],
   "source": [
    "df_raw.shape"
   ]
  },
  {
   "cell_type": "markdown",
   "metadata": {},
   "source": [
    "#### 1.2.2 Data types of all the attributes"
   ]
  },
  {
   "cell_type": "code",
   "execution_count": 198,
   "metadata": {},
   "outputs": [
    {
     "name": "stdout",
     "output_type": "stream",
     "text": [
      "<class 'pandas.core.frame.DataFrame'>\n",
      "Index: 205843 entries, 0 to 206922\n",
      "Data columns (total 6 columns):\n",
      " #   Column            Non-Null Count   Dtype  \n",
      "---  ------            --------------   -----  \n",
      " 0   company_hash      205799 non-null  object \n",
      " 1   email_hash        205843 non-null  object \n",
      " 2   orgyear           205757 non-null  float64\n",
      " 3   ctc               205843 non-null  int64  \n",
      " 4   job_position      153279 non-null  object \n",
      " 5   ctc_updated_year  205843 non-null  float64\n",
      "dtypes: float64(2), int64(1), object(3)\n",
      "memory usage: 11.0+ MB\n"
     ]
    }
   ],
   "source": [
    "df_raw.info()"
   ]
  },
  {
   "cell_type": "markdown",
   "metadata": {},
   "source": [
    "#### 1.2.3 Conversion of categorical attributes to 'category' (If required)"
   ]
  },
  {
   "cell_type": "code",
   "execution_count": 199,
   "metadata": {},
   "outputs": [
    {
     "name": "stdout",
     "output_type": "stream",
     "text": [
      "<class 'pandas.core.frame.DataFrame'>\n",
      "Index: 205843 entries, 0 to 206922\n",
      "Data columns (total 6 columns):\n",
      " #   Column            Non-Null Count   Dtype \n",
      "---  ------            --------------   ----- \n",
      " 0   company_hash      205799 non-null  string\n",
      " 1   email_hash        205843 non-null  string\n",
      " 2   orgyear           205757 non-null  Int64 \n",
      " 3   ctc               205843 non-null  Int64 \n",
      " 4   job_position      153279 non-null  string\n",
      " 5   ctc_updated_year  205843 non-null  Int64 \n",
      "dtypes: Int64(3), string(3)\n",
      "memory usage: 11.6 MB\n"
     ]
    }
   ],
   "source": [
    "df_raw = df_raw.convert_dtypes()\n",
    "df_raw.info()"
   ]
  },
  {
   "cell_type": "code",
   "execution_count": 200,
   "metadata": {},
   "outputs": [
    {
     "data": {
      "text/html": [
       "<div>\n",
       "<style scoped>\n",
       "    .dataframe tbody tr th:only-of-type {\n",
       "        vertical-align: middle;\n",
       "    }\n",
       "\n",
       "    .dataframe tbody tr th {\n",
       "        vertical-align: top;\n",
       "    }\n",
       "\n",
       "    .dataframe thead th {\n",
       "        text-align: right;\n",
       "    }\n",
       "</style>\n",
       "<table border=\"1\" class=\"dataframe\">\n",
       "  <thead>\n",
       "    <tr style=\"text-align: right;\">\n",
       "      <th></th>\n",
       "      <th>orgyear</th>\n",
       "      <th>ctc</th>\n",
       "      <th>job_position</th>\n",
       "      <th>ctc_updated_year</th>\n",
       "    </tr>\n",
       "  </thead>\n",
       "  <tbody>\n",
       "    <tr>\n",
       "      <th>number of unique values --&gt;</th>\n",
       "      <td>77</td>\n",
       "      <td>3360</td>\n",
       "      <td>1016</td>\n",
       "      <td>7</td>\n",
       "    </tr>\n",
       "  </tbody>\n",
       "</table>\n",
       "</div>"
      ],
      "text/plain": [
       "                             orgyear   ctc  job_position  ctc_updated_year\n",
       "number of unique values -->       77  3360          1016                 7"
      ]
     },
     "execution_count": 200,
     "metadata": {},
     "output_type": "execute_result"
    }
   ],
   "source": [
    "pd.DataFrame({col: {'number of unique values -->':df_raw[col].nunique()} for col in df_raw.columns[2:]})"
   ]
  },
  {
   "cell_type": "markdown",
   "metadata": {},
   "source": [
    "* CTC is the only numerical variable\n",
    "\n",
    "#### 1.2.4 Missing value detection, statistical summary."
   ]
  },
  {
   "cell_type": "code",
   "execution_count": 201,
   "metadata": {},
   "outputs": [
    {
     "data": {
      "text/plain": [
       "company_hash           44\n",
       "email_hash              0\n",
       "orgyear                86\n",
       "ctc                     0\n",
       "job_position        52564\n",
       "ctc_updated_year        0\n",
       "dtype: int64"
      ]
     },
     "execution_count": 201,
     "metadata": {},
     "output_type": "execute_result"
    }
   ],
   "source": [
    "df_raw.isna().sum()"
   ]
  },
  {
   "cell_type": "code",
   "execution_count": 202,
   "metadata": {},
   "outputs": [
    {
     "data": {
      "text/html": [
       "<div>\n",
       "<style scoped>\n",
       "    .dataframe tbody tr th:only-of-type {\n",
       "        vertical-align: middle;\n",
       "    }\n",
       "\n",
       "    .dataframe tbody tr th {\n",
       "        vertical-align: top;\n",
       "    }\n",
       "\n",
       "    .dataframe thead th {\n",
       "        text-align: right;\n",
       "    }\n",
       "</style>\n",
       "<table border=\"1\" class=\"dataframe\">\n",
       "  <thead>\n",
       "    <tr style=\"text-align: right;\">\n",
       "      <th></th>\n",
       "      <th>orgyear</th>\n",
       "      <th>ctc</th>\n",
       "      <th>ctc_updated_year</th>\n",
       "    </tr>\n",
       "  </thead>\n",
       "  <tbody>\n",
       "    <tr>\n",
       "      <th>count</th>\n",
       "      <td>205757.0</td>\n",
       "      <td>205843.0</td>\n",
       "      <td>205843.0</td>\n",
       "    </tr>\n",
       "    <tr>\n",
       "      <th>mean</th>\n",
       "      <td>2014.88275</td>\n",
       "      <td>2271685.041993</td>\n",
       "      <td>2019.628231</td>\n",
       "    </tr>\n",
       "    <tr>\n",
       "      <th>std</th>\n",
       "      <td>63.571115</td>\n",
       "      <td>11800914.440025</td>\n",
       "      <td>1.325104</td>\n",
       "    </tr>\n",
       "    <tr>\n",
       "      <th>min</th>\n",
       "      <td>0.0</td>\n",
       "      <td>2.0</td>\n",
       "      <td>2015.0</td>\n",
       "    </tr>\n",
       "    <tr>\n",
       "      <th>25%</th>\n",
       "      <td>2013.0</td>\n",
       "      <td>530000.0</td>\n",
       "      <td>2019.0</td>\n",
       "    </tr>\n",
       "    <tr>\n",
       "      <th>50%</th>\n",
       "      <td>2016.0</td>\n",
       "      <td>950000.0</td>\n",
       "      <td>2020.0</td>\n",
       "    </tr>\n",
       "    <tr>\n",
       "      <th>75%</th>\n",
       "      <td>2018.0</td>\n",
       "      <td>1700000.0</td>\n",
       "      <td>2021.0</td>\n",
       "    </tr>\n",
       "    <tr>\n",
       "      <th>max</th>\n",
       "      <td>20165.0</td>\n",
       "      <td>1000150000.0</td>\n",
       "      <td>2021.0</td>\n",
       "    </tr>\n",
       "  </tbody>\n",
       "</table>\n",
       "</div>"
      ],
      "text/plain": [
       "          orgyear              ctc  ctc_updated_year\n",
       "count    205757.0         205843.0          205843.0\n",
       "mean   2014.88275   2271685.041993       2019.628231\n",
       "std     63.571115  11800914.440025          1.325104\n",
       "min           0.0              2.0            2015.0\n",
       "25%        2013.0         530000.0            2019.0\n",
       "50%        2016.0         950000.0            2020.0\n",
       "75%        2018.0        1700000.0            2021.0\n",
       "max       20165.0     1000150000.0            2021.0"
      ]
     },
     "execution_count": 202,
     "metadata": {},
     "output_type": "execute_result"
    }
   ],
   "source": [
    "df_raw.describe()"
   ]
  },
  {
   "cell_type": "markdown",
   "metadata": {},
   "source": [
    "### 1.3 Univariate Analysis"
   ]
  },
  {
   "cell_type": "code",
   "execution_count": 203,
   "metadata": {},
   "outputs": [
    {
     "data": {
      "image/png": "[encoded data removed]",
      "text/plain": [
       "<Figure size 1600x400 with 2 Axes>"
      ]
     },
     "metadata": {},
     "output_type": "display_data"
    }
   ],
   "source": [
    "def distnbox(df, col):\n",
    "    fig, axes = plt.subplots(1, 2, figsize=(16,4))\n",
    "    sns.histplot(data=df, x=col, ax=axes[0], log_scale=True)\n",
    "    sns.boxplot(data=df, x=col, ax=axes[1], log_scale=True)\n",
    "\n",
    "distnbox(df_raw, 'ctc')"
   ]
  },
  {
   "cell_type": "code",
   "execution_count": 204,
   "metadata": {},
   "outputs": [
    {
     "data": {
      "text/plain": [
       "<Axes: xlabel='ctc_updated_year', ylabel='count'>"
      ]
     },
     "execution_count": 204,
     "metadata": {},
     "output_type": "execute_result"
    },
    {
     "data": {
      "image/png": "[encoded data removed]",
      "text/plain": [
       "<Figure size 640x480 with 1 Axes>"
      ]
     },
     "metadata": {},
     "output_type": "display_data"
    }
   ],
   "source": [
    "sns.countplot(df_raw, x='ctc_updated_year')"
   ]
  },
  {
   "cell_type": "markdown",
   "metadata": {},
   "source": [
    "#### 1.3.1 Emails\n",
    "Checking unique emails and frequency of occurrence of the same email hash in the data. Recording observation and inference, wherever necessary."
   ]
  },
  {
   "cell_type": "markdown",
   "metadata": {},
   "source": []
  },
  {
   "cell_type": "markdown",
   "metadata": {},
   "source": [
    "### 1.4 Bivariate Analysis \n",
    "Checking unique emails and frequency of occurrence of the same email hash in the data. Recording observation and inference, wherever necessary"
   ]
  },
  {
   "cell_type": "code",
   "execution_count": 205,
   "metadata": {},
   "outputs": [
    {
     "data": {
      "text/plain": [
       "email_hash                                                        company_hash             \n",
       "bbace3cc586400bbc65765bc6a16b77d8913836cfc98b77c05488f02f5714a4b  oxej ntwyzgrgsxto rxbxnta    10\n",
       "3e5e49daa5527a6d5a33599b238bf9bf31e85b9efa9a94f1c88c5e15a6f31378  wgcxvb ntwyzgrgsxto           9\n",
       "298528ce3160cc761e4dc37a07337ee2e0589df251d73645aae209b010210eee  cvrhtbgbtznhb                 9\n",
       "6842660273f70e9aa239026ba33bfe82275d6ab0d20124021b952b5bc3d07e6c  ihvrwgbb                      9\n",
       "b4d5afa09bec8689017d8b29701b80d664ca37b83cb883376b2e95191320da66  bvi ogenfvqt                  8\n",
       "                                                                                               ..\n",
       "000411b5d6d4e1c113bf83f1eebc0b835d77cc45bded1dc354d4b2ddf3feb189  sgowvrt sqghu xzw             1\n",
       "                                                                  gutzcgj                       1\n",
       "00022dc29c7f77032275182b883d4f273ea1007aefc437f8822d21c78a9cebd0  xzeqvwrgha ntwyzgrgsxto       1\n",
       "                                                                  vqtkkgopj                     1\n",
       "00014d71a389170e668ba96ae8e1f9d991591acc8990253cc62a371eea92155b  fvrbvqn rvmo                  1\n",
       "Name: count, Length: 160273, dtype: int64"
      ]
     },
     "execution_count": 205,
     "metadata": {},
     "output_type": "execute_result"
    }
   ],
   "source": [
    "df_raw[['email_hash', 'company_hash']].value_counts()"
   ]
  },
  {
   "cell_type": "markdown",
   "metadata": {},
   "source": [
    "# 2. Data Preprocessing\n",
    "\n",
    "## 2.1 Cleaning\n",
    "### 2.1.1 Drop duplicates\n",
    "Checking for duplicates in the dataset and drop them"
   ]
  },
  {
   "cell_type": "code",
   "execution_count": 206,
   "metadata": {},
   "outputs": [
    {
     "data": {
      "text/plain": [
       "34"
      ]
     },
     "execution_count": 206,
     "metadata": {},
     "output_type": "execute_result"
    }
   ],
   "source": [
    "# df_dropped = df_raw[~df_drop_idx].convert_dtypes()\n",
    "df_dropped = df_raw.drop_duplicates()\n",
    "\n",
    "# number of rows dropped\n",
    "len(df_raw) - len(df_dropped)"
   ]
  },
  {
   "cell_type": "code",
   "execution_count": 207,
   "metadata": {},
   "outputs": [],
   "source": [
    "# print(sum((df_dropped['orgyear']==0).dropna())) # drop 17 rows where orgyear is 0\n",
    "# df_dropped = df_dropped[~(df_dropped['orgyear']==0)]"
   ]
  },
  {
   "cell_type": "markdown",
   "metadata": {},
   "source": [
    "### 2.1.2 Remove special characters"
   ]
  },
  {
   "cell_type": "code",
   "execution_count": 208,
   "metadata": {},
   "outputs": [
    {
     "data": {
      "text/plain": [
       "{'company_hash': False, 'email_hash': False, 'job_position': True}"
      ]
     },
     "execution_count": 208,
     "metadata": {},
     "output_type": "execute_result"
    }
   ],
   "source": [
    "df_stringcols = df_dropped.select_dtypes(include=pd.StringDtype())\n",
    "{\n",
    "    col: any(~(df_stringcols[col].str.fullmatch(r'[A-Za-z0-9 ]+').dropna())) \n",
    "    for col in df_stringcols.columns\n",
    "}"
   ]
  },
  {
   "cell_type": "code",
   "execution_count": 209,
   "metadata": {},
   "outputs": [],
   "source": [
    "df_dropped.loc[:, 'job_position'] = df_stringcols['job_position'].str.replace(r'[A-Za-z0-9 ]+', '')"
   ]
  },
  {
   "cell_type": "markdown",
   "metadata": {},
   "source": [
    "## 2.2 Imputation\n",
    "Mean/ KNN Imputation, Regex for cleaning company names, Standardization & Encoding"
   ]
  },
  {
   "cell_type": "markdown",
   "metadata": {},
   "source": [
    "### 2.2.2 Prepare data from Imputation\n",
    "#### 2.2.2.1 Encoding"
   ]
  },
  {
   "cell_type": "code",
   "execution_count": 210,
   "metadata": {},
   "outputs": [],
   "source": [
    "df_dropped.loc[:, 'company_hash'] = df_dropped['company_hash'].fillna('NA')"
   ]
  },
  {
   "cell_type": "code",
   "execution_count": 211,
   "metadata": {},
   "outputs": [
    {
     "data": {
      "text/plain": [
       "company_hash            0\n",
       "email_hash              0\n",
       "orgyear                86\n",
       "ctc                     0\n",
       "job_position        52548\n",
       "ctc_updated_year        0\n",
       "dtype: int64"
      ]
     },
     "execution_count": 211,
     "metadata": {},
     "output_type": "execute_result"
    }
   ],
   "source": [
    "df_dropped.isna().sum()"
   ]
  },
  {
   "cell_type": "code",
   "execution_count": 212,
   "metadata": {},
   "outputs": [],
   "source": [
    "from sklearn.preprocessing import LabelEncoder\n",
    "enc = LabelEncoder()"
   ]
  },
  {
   "cell_type": "code",
   "execution_count": 213,
   "metadata": {},
   "outputs": [
    {
     "data": {
      "text/html": [
       "<div>\n",
       "<style scoped>\n",
       "    .dataframe tbody tr th:only-of-type {\n",
       "        vertical-align: middle;\n",
       "    }\n",
       "\n",
       "    .dataframe tbody tr th {\n",
       "        vertical-align: top;\n",
       "    }\n",
       "\n",
       "    .dataframe thead th {\n",
       "        text-align: right;\n",
       "    }\n",
       "</style>\n",
       "<table border=\"1\" class=\"dataframe\">\n",
       "  <thead>\n",
       "    <tr style=\"text-align: right;\">\n",
       "      <th></th>\n",
       "      <th>orgyear</th>\n",
       "      <th>ctc</th>\n",
       "      <th>ctc_updated_year</th>\n",
       "      <th>job_position</th>\n",
       "    </tr>\n",
       "  </thead>\n",
       "  <tbody>\n",
       "    <tr>\n",
       "      <th>0</th>\n",
       "      <td>2016</td>\n",
       "      <td>1100000</td>\n",
       "      <td>2020</td>\n",
       "      <td>458</td>\n",
       "    </tr>\n",
       "    <tr>\n",
       "      <th>1</th>\n",
       "      <td>2018</td>\n",
       "      <td>449999</td>\n",
       "      <td>2019</td>\n",
       "      <td>292</td>\n",
       "    </tr>\n",
       "    <tr>\n",
       "      <th>2</th>\n",
       "      <td>2015</td>\n",
       "      <td>2000000</td>\n",
       "      <td>2020</td>\n",
       "      <td>140</td>\n",
       "    </tr>\n",
       "    <tr>\n",
       "      <th>3</th>\n",
       "      <td>2017</td>\n",
       "      <td>700000</td>\n",
       "      <td>2019</td>\n",
       "      <td>140</td>\n",
       "    </tr>\n",
       "    <tr>\n",
       "      <th>4</th>\n",
       "      <td>2017</td>\n",
       "      <td>1400000</td>\n",
       "      <td>2019</td>\n",
       "      <td>292</td>\n",
       "    </tr>\n",
       "  </tbody>\n",
       "</table>\n",
       "</div>"
      ],
      "text/plain": [
       "   orgyear      ctc  ctc_updated_year  job_position\n",
       "0     2016  1100000              2020           458\n",
       "1     2018   449999              2019           292\n",
       "2     2015  2000000              2020           140\n",
       "3     2017   700000              2019           140\n",
       "4     2017  1400000              2019           292"
      ]
     },
     "execution_count": 213,
     "metadata": {},
     "output_type": "execute_result"
    }
   ],
   "source": [
    "df_non_pii = df_dropped.iloc[:,[2, 3, 5]].copy() # first 2 columns are PII data\n",
    "\n",
    "df_non_pii.loc[:, 'job_position'] = enc.fit_transform(df_dropped['job_position'].fillna('NA'))\n",
    "df_non_pii.head()"
   ]
  },
  {
   "cell_type": "code",
   "execution_count": 214,
   "metadata": {},
   "outputs": [
    {
     "data": {
      "text/plain": [
       "((205809, 6), (205809, 4))"
      ]
     },
     "execution_count": 214,
     "metadata": {},
     "output_type": "execute_result"
    }
   ],
   "source": [
    "df_dropped.shape, df_non_pii.shape"
   ]
  },
  {
   "cell_type": "markdown",
   "metadata": {},
   "source": [
    "#### 2.2.2.2 Standardization"
   ]
  },
  {
   "cell_type": "code",
   "execution_count": 215,
   "metadata": {},
   "outputs": [
    {
     "data": {
      "text/plain": [
       "array([[9.99752046e-02, 1.09983303e-03, 8.33333333e-01, 4.50787402e-01],\n",
       "       [1.00074386e-01, 4.49929511e-04, 6.66666667e-01, 2.87401575e-01],\n",
       "       [9.99256137e-02, 1.99969805e-03, 8.33333333e-01, 1.37795276e-01],\n",
       "       ...,\n",
       "       [1.00223159e-01, 6.99893017e-04, 1.00000000e+00, 4.24212598e-01],\n",
       "       [1.00123977e-01, 5.09923313e-03, 6.66666667e-01, 4.24212598e-01],\n",
       "       [9.98760228e-02, 1.23981203e-03, 1.66666667e-01, 4.24212598e-01]])"
      ]
     },
     "execution_count": 215,
     "metadata": {},
     "output_type": "execute_result"
    }
   ],
   "source": [
    "from sklearn.preprocessing import MinMaxScaler\n",
    "scaler = MinMaxScaler()\n",
    "X_scaled = scaler.fit_transform(X = df_non_pii)\n",
    "X_scaled"
   ]
  },
  {
   "cell_type": "markdown",
   "metadata": {},
   "source": [
    "### 2.2.3 kNN Imputation"
   ]
  },
  {
   "cell_type": "code",
   "execution_count": 216,
   "metadata": {},
   "outputs": [],
   "source": [
    "from sklearn.impute import KNNImputer\n",
    "imputer = KNNImputer()\n",
    "\n",
    "X_imputed = imputer.fit_transform(X_scaled)"
   ]
  },
  {
   "cell_type": "code",
   "execution_count": 223,
   "metadata": {},
   "outputs": [
    {
     "data": {
      "text/html": [
       "<div>\n",
       "<style scoped>\n",
       "    .dataframe tbody tr th:only-of-type {\n",
       "        vertical-align: middle;\n",
       "    }\n",
       "\n",
       "    .dataframe tbody tr th {\n",
       "        vertical-align: top;\n",
       "    }\n",
       "\n",
       "    .dataframe thead th {\n",
       "        text-align: right;\n",
       "    }\n",
       "</style>\n",
       "<table border=\"1\" class=\"dataframe\">\n",
       "  <thead>\n",
       "    <tr style=\"text-align: right;\">\n",
       "      <th></th>\n",
       "      <th>company_hash</th>\n",
       "      <th>email_hash</th>\n",
       "      <th>orgyear</th>\n",
       "      <th>ctc</th>\n",
       "      <th>job_position</th>\n",
       "      <th>ctc_updated_year</th>\n",
       "    </tr>\n",
       "  </thead>\n",
       "  <tbody>\n",
       "    <tr>\n",
       "      <th>0</th>\n",
       "      <td>atrgxnnt xzaxv</td>\n",
       "      <td>6de0a4417d18ab14334c3f43397fc13b30c35149d70c05...</td>\n",
       "      <td>2016</td>\n",
       "      <td>1100000</td>\n",
       "      <td>Other</td>\n",
       "      <td>2020</td>\n",
       "    </tr>\n",
       "    <tr>\n",
       "      <th>1</th>\n",
       "      <td>qtrxvzwt xzegwgbb rxbxnta</td>\n",
       "      <td>b0aaf1ac138b53cb6e039ba2c3d6604a250d02d5145c10...</td>\n",
       "      <td>2018</td>\n",
       "      <td>449999</td>\n",
       "      <td>FullStack Engineer</td>\n",
       "      <td>2019</td>\n",
       "    </tr>\n",
       "    <tr>\n",
       "      <th>2</th>\n",
       "      <td>ojzwnvwnxw vx</td>\n",
       "      <td>4860c670bcd48fb96c02a4b0ae3608ae6fdd98176112e9...</td>\n",
       "      <td>2015</td>\n",
       "      <td>2000000</td>\n",
       "      <td>Backend Engineer</td>\n",
       "      <td>2020</td>\n",
       "    </tr>\n",
       "    <tr>\n",
       "      <th>3</th>\n",
       "      <td>ngpgutaxv</td>\n",
       "      <td>effdede7a2e7c2af664c8a31d9346385016128d66bbc58...</td>\n",
       "      <td>2017</td>\n",
       "      <td>700000</td>\n",
       "      <td>Backend Engineer</td>\n",
       "      <td>2019</td>\n",
       "    </tr>\n",
       "    <tr>\n",
       "      <th>4</th>\n",
       "      <td>qxen sqghu</td>\n",
       "      <td>6ff54e709262f55cb999a1c1db8436cb2055d8f79ab520...</td>\n",
       "      <td>2017</td>\n",
       "      <td>1400000</td>\n",
       "      <td>FullStack Engineer</td>\n",
       "      <td>2019</td>\n",
       "    </tr>\n",
       "    <tr>\n",
       "      <th>...</th>\n",
       "      <td>...</td>\n",
       "      <td>...</td>\n",
       "      <td>...</td>\n",
       "      <td>...</td>\n",
       "      <td>...</td>\n",
       "      <td>...</td>\n",
       "    </tr>\n",
       "    <tr>\n",
       "      <th>206918</th>\n",
       "      <td>vuurt xzw</td>\n",
       "      <td>70027b728c8ee901fe979533ed94ffda97be08fc23f33b...</td>\n",
       "      <td>2008</td>\n",
       "      <td>220000</td>\n",
       "      <td>&lt;NA&gt;</td>\n",
       "      <td>2019</td>\n",
       "    </tr>\n",
       "    <tr>\n",
       "      <th>206919</th>\n",
       "      <td>husqvawgb</td>\n",
       "      <td>7f7292ffad724ebbe9ca860f515245368d714c84705b42...</td>\n",
       "      <td>2017</td>\n",
       "      <td>500000</td>\n",
       "      <td>&lt;NA&gt;</td>\n",
       "      <td>2020</td>\n",
       "    </tr>\n",
       "    <tr>\n",
       "      <th>206920</th>\n",
       "      <td>vwwgrxnt</td>\n",
       "      <td>cb25cc7304e9a24facda7f5567c7922ffc48e3d5d6018c...</td>\n",
       "      <td>2021</td>\n",
       "      <td>700000</td>\n",
       "      <td>&lt;NA&gt;</td>\n",
       "      <td>2021</td>\n",
       "    </tr>\n",
       "    <tr>\n",
       "      <th>206921</th>\n",
       "      <td>zgn vuurxwvmrt</td>\n",
       "      <td>fb46a1a2752f5f652ce634f6178d0578ef6995ee59f6c8...</td>\n",
       "      <td>2019</td>\n",
       "      <td>5100000</td>\n",
       "      <td>&lt;NA&gt;</td>\n",
       "      <td>2019</td>\n",
       "    </tr>\n",
       "    <tr>\n",
       "      <th>206922</th>\n",
       "      <td>bgqsvz onvzrtj</td>\n",
       "      <td>0bcfc1d05f2e8dc4147743a1313aa70a119b41b30d4a1f...</td>\n",
       "      <td>2014</td>\n",
       "      <td>1240000</td>\n",
       "      <td>&lt;NA&gt;</td>\n",
       "      <td>2016</td>\n",
       "    </tr>\n",
       "  </tbody>\n",
       "</table>\n",
       "<p>205809 rows × 6 columns</p>\n",
       "</div>"
      ],
      "text/plain": [
       "                     company_hash  \\\n",
       "0                  atrgxnnt xzaxv   \n",
       "1       qtrxvzwt xzegwgbb rxbxnta   \n",
       "2                   ojzwnvwnxw vx   \n",
       "3                       ngpgutaxv   \n",
       "4                      qxen sqghu   \n",
       "...                           ...   \n",
       "206918                  vuurt xzw   \n",
       "206919                  husqvawgb   \n",
       "206920                   vwwgrxnt   \n",
       "206921             zgn vuurxwvmrt   \n",
       "206922             bgqsvz onvzrtj   \n",
       "\n",
       "                                               email_hash  orgyear      ctc  \\\n",
       "0       6de0a4417d18ab14334c3f43397fc13b30c35149d70c05...     2016  1100000   \n",
       "1       b0aaf1ac138b53cb6e039ba2c3d6604a250d02d5145c10...     2018   449999   \n",
       "2       4860c670bcd48fb96c02a4b0ae3608ae6fdd98176112e9...     2015  2000000   \n",
       "3       effdede7a2e7c2af664c8a31d9346385016128d66bbc58...     2017   700000   \n",
       "4       6ff54e709262f55cb999a1c1db8436cb2055d8f79ab520...     2017  1400000   \n",
       "...                                                   ...      ...      ...   \n",
       "206918  70027b728c8ee901fe979533ed94ffda97be08fc23f33b...     2008   220000   \n",
       "206919  7f7292ffad724ebbe9ca860f515245368d714c84705b42...     2017   500000   \n",
       "206920  cb25cc7304e9a24facda7f5567c7922ffc48e3d5d6018c...     2021   700000   \n",
       "206921  fb46a1a2752f5f652ce634f6178d0578ef6995ee59f6c8...     2019  5100000   \n",
       "206922  0bcfc1d05f2e8dc4147743a1313aa70a119b41b30d4a1f...     2014  1240000   \n",
       "\n",
       "              job_position  ctc_updated_year  \n",
       "0                    Other              2020  \n",
       "1       FullStack Engineer              2019  \n",
       "2         Backend Engineer              2020  \n",
       "3         Backend Engineer              2019  \n",
       "4       FullStack Engineer              2019  \n",
       "...                    ...               ...  \n",
       "206918                <NA>              2019  \n",
       "206919                <NA>              2020  \n",
       "206920                <NA>              2021  \n",
       "206921                <NA>              2019  \n",
       "206922                <NA>              2016  \n",
       "\n",
       "[205809 rows x 6 columns]"
      ]
     },
     "execution_count": 223,
     "metadata": {},
     "output_type": "execute_result"
    }
   ],
   "source": [
    "df_imputed = df_dropped.copy(deep=True)\n",
    "df_imputed.loc[:, 'orgyear'] = scaler.inverse_transform(X_imputed)[:, 0].round()\n",
    "df_imputed"
   ]
  },
  {
   "cell_type": "markdown",
   "metadata": {},
   "source": [
    "## 2.3 Add Feature"
   ]
  },
  {
   "cell_type": "code",
   "execution_count": 224,
   "metadata": {},
   "outputs": [],
   "source": [
    "df_imputed.loc[:, 'years_of_experience'] = df_imputed['ctc_updated_year'] - df_imputed['orgyear']"
   ]
  },
  {
   "cell_type": "code",
   "execution_count": 225,
   "metadata": {},
   "outputs": [
    {
     "data": {
      "text/html": [
       "<div>\n",
       "<style scoped>\n",
       "    .dataframe tbody tr th:only-of-type {\n",
       "        vertical-align: middle;\n",
       "    }\n",
       "\n",
       "    .dataframe tbody tr th {\n",
       "        vertical-align: top;\n",
       "    }\n",
       "\n",
       "    .dataframe thead th {\n",
       "        text-align: right;\n",
       "    }\n",
       "</style>\n",
       "<table border=\"1\" class=\"dataframe\">\n",
       "  <thead>\n",
       "    <tr style=\"text-align: right;\">\n",
       "      <th></th>\n",
       "      <th>company_hash</th>\n",
       "      <th>email_hash</th>\n",
       "      <th>orgyear</th>\n",
       "      <th>ctc</th>\n",
       "      <th>job_position</th>\n",
       "      <th>ctc_updated_year</th>\n",
       "      <th>years_of_experience</th>\n",
       "    </tr>\n",
       "  </thead>\n",
       "  <tbody>\n",
       "    <tr>\n",
       "      <th>187605</th>\n",
       "      <td>zgn vuurxwvmrt</td>\n",
       "      <td>a06578c1d870eabf59913a8fd678f785ad36553bfeedde...</td>\n",
       "      <td>2022</td>\n",
       "      <td>1500000</td>\n",
       "      <td>&lt;NA&gt;</td>\n",
       "      <td>2020</td>\n",
       "      <td>-2</td>\n",
       "    </tr>\n",
       "    <tr>\n",
       "      <th>29072</th>\n",
       "      <td>ufw</td>\n",
       "      <td>7dfd87c0a19ccd05f8e77da608d6d3bccc1841dc5fd127...</td>\n",
       "      <td>2015</td>\n",
       "      <td>900000</td>\n",
       "      <td>Data Analyst</td>\n",
       "      <td>2021</td>\n",
       "      <td>6</td>\n",
       "    </tr>\n",
       "    <tr>\n",
       "      <th>49026</th>\n",
       "      <td>vbvkgz</td>\n",
       "      <td>37c0a7fcd54f1aeca394cbcebd67a2b912276f3c7f6aff...</td>\n",
       "      <td>2019</td>\n",
       "      <td>1900000</td>\n",
       "      <td>Android Engineer</td>\n",
       "      <td>2021</td>\n",
       "      <td>2</td>\n",
       "    </tr>\n",
       "    <tr>\n",
       "      <th>175565</th>\n",
       "      <td>ovu</td>\n",
       "      <td>b2f31f53f982cc5e49632acf8115bb87b84bb5796722b7...</td>\n",
       "      <td>2015</td>\n",
       "      <td>1220000</td>\n",
       "      <td>Backend Engineer</td>\n",
       "      <td>2020</td>\n",
       "      <td>5</td>\n",
       "    </tr>\n",
       "    <tr>\n",
       "      <th>119794</th>\n",
       "      <td>wgszxkvzn</td>\n",
       "      <td>6e5c11e903f7eb2bf937d5c715921c0e8b4aeb61e4e23b...</td>\n",
       "      <td>2017</td>\n",
       "      <td>480000</td>\n",
       "      <td>Engineering Leadership</td>\n",
       "      <td>2020</td>\n",
       "      <td>3</td>\n",
       "    </tr>\n",
       "  </tbody>\n",
       "</table>\n",
       "</div>"
      ],
      "text/plain": [
       "          company_hash                                         email_hash  \\\n",
       "187605  zgn vuurxwvmrt  a06578c1d870eabf59913a8fd678f785ad36553bfeedde...   \n",
       "29072              ufw  7dfd87c0a19ccd05f8e77da608d6d3bccc1841dc5fd127...   \n",
       "49026           vbvkgz  37c0a7fcd54f1aeca394cbcebd67a2b912276f3c7f6aff...   \n",
       "175565             ovu  b2f31f53f982cc5e49632acf8115bb87b84bb5796722b7...   \n",
       "119794       wgszxkvzn  6e5c11e903f7eb2bf937d5c715921c0e8b4aeb61e4e23b...   \n",
       "\n",
       "        orgyear      ctc            job_position  ctc_updated_year  \\\n",
       "187605     2022  1500000                    <NA>              2020   \n",
       "29072      2015   900000            Data Analyst              2021   \n",
       "49026      2019  1900000        Android Engineer              2021   \n",
       "175565     2015  1220000        Backend Engineer              2020   \n",
       "119794     2017   480000  Engineering Leadership              2020   \n",
       "\n",
       "        years_of_experience  \n",
       "187605                   -2  \n",
       "29072                     6  \n",
       "49026                     2  \n",
       "175565                    5  \n",
       "119794                    3  "
      ]
     },
     "execution_count": 225,
     "metadata": {},
     "output_type": "execute_result"
    }
   ],
   "source": [
    "df_imputed.sample(5)"
   ]
  },
  {
   "cell_type": "markdown",
   "metadata": {},
   "source": [
    "# 3. Manual Clustering"
   ]
  },
  {
   "cell_type": "code",
   "execution_count": null,
   "metadata": {},
   "outputs": [],
   "source": []
  }
 ],
 "metadata": {
  "kernelspec": {
   "display_name": "Python 3",
   "language": "python",
   "name": "python3"
  },
  "language_info": {
   "codemirror_mode": {
    "name": "ipython",
    "version": 3
   },
   "file_extension": ".py",
   "mimetype": "text/x-python",
   "name": "python",
   "nbconvert_exporter": "python",
   "pygments_lexer": "ipython3",
   "version": "3.12.1"
  }
 },
 "nbformat": 4,
 "nbformat_minor": 2
}
