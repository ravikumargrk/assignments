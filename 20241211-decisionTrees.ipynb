{
 "cells": [
  {
   "cell_type": "code",
   "execution_count": 1,
   "metadata": {
    "vscode": {
     "languageId": "shellscript"
    }
   },
   "outputs": [
    {
     "name": "stdout",
     "output_type": "stream",
     "text": [
      "--2024-11-12 16:21:41--  https://d2beiqkhq929f0.cloudfront.net/public_assets/assets/000/071/024/original/SteelPlant.csv\n",
      "Resolving d2beiqkhq929f0.cloudfront.net (d2beiqkhq929f0.cloudfront.net)... 108.158.41.214, 108.158.41.222, 108.158.41.203, ...\n",
      "Connecting to d2beiqkhq929f0.cloudfront.net (d2beiqkhq929f0.cloudfront.net)|108.158.41.214|:443... connected.\n",
      "HTTP request sent, awaiting response... 200 OK\n",
      "Length: 3133750 (3.0M) [text/plain]\n",
      "Saving to: ‘SteelPlant.csv.2’\n",
      "\n",
      "SteelPlant.csv.2    100%[===================>]   2.99M  --.-KB/s    in 0.05s   \n",
      "\n",
      "2024-11-12 16:21:41 (56.8 MB/s) - ‘SteelPlant.csv.2’ saved [3133750/3133750]\n",
      "\n"
     ]
    }
   ],
   "source": [
    "# Download the dataset\n",
    "!wget https://d2beiqkhq929f0.cloudfront.net/public_assets/assets/000/071/024/original/SteelPlant.csv"
   ]
  },
  {
   "cell_type": "code",
   "execution_count": 2,
   "metadata": {},
   "outputs": [],
   "source": [
    "import pandas as pd\n",
    "df = pd.read_csv('SteelPlant.csv')"
   ]
  },
  {
   "cell_type": "markdown",
   "metadata": {},
   "source": [
    "### Create target column\n",
    "reverse one-hot encoding"
   ]
  },
  {
   "cell_type": "code",
   "execution_count": 3,
   "metadata": {},
   "outputs": [],
   "source": [
    "df['Target'] = df.iloc[:, -7:].idxmax(axis='columns')"
   ]
  },
  {
   "cell_type": "code",
   "execution_count": 4,
   "metadata": {},
   "outputs": [],
   "source": [
    "from scipy.stats import entropy\n",
    "# help(entropy)"
   ]
  },
  {
   "cell_type": "markdown",
   "metadata": {},
   "source": [
    "### Find entropy of target"
   ]
  },
  {
   "cell_type": "code",
   "execution_count": 5,
   "metadata": {},
   "outputs": [
    {
     "data": {
      "text/plain": [
       "np.float64(2.364097425566414)"
      ]
     },
     "execution_count": 5,
     "metadata": {},
     "output_type": "execute_result"
    }
   ],
   "source": [
    "p = df['Target'].value_counts(normalize=True)\n",
    "entropy(p, base=2)"
   ]
  },
  {
   "cell_type": "markdown",
   "metadata": {},
   "source": [
    "### Should we balance target ?"
   ]
  },
  {
   "cell_type": "code",
   "execution_count": 6,
   "metadata": {},
   "outputs": [
    {
     "data": {
      "text/plain": [
       "<Axes: xlabel='Target'>"
      ]
     },
     "execution_count": 6,
     "metadata": {},
     "output_type": "execute_result"
    },
    {
     "data": {
      "image/png": "[encoded data removed]",
      "text/plain": [
       "<Figure size 640x480 with 1 Axes>"
      ]
     },
     "metadata": {},
     "output_type": "display_data"
    }
   ],
   "source": [
    "df['Target'].value_counts(sort=False).plot.bar()"
   ]
  },
  {
   "cell_type": "code",
   "execution_count": 7,
   "metadata": {},
   "outputs": [
    {
     "data": {
      "text/plain": [
       "('Pixels_Areas', np.float64(0.771))"
      ]
     },
     "execution_count": 7,
     "metadata": {},
     "output_type": "execute_result"
    }
   ],
   "source": [
    "from sklearn.model_selection import train_test_split\n",
    "\n",
    "X_train, X_test, y_train, y_test = train_test_split(df[['Pixels_Areas', 'SigmoidOfAreas']], df['Target'], test_size=0.25)\n",
    "\n",
    "from sklearn.tree import DecisionTreeClassifier\n",
    "dTreeClf = DecisionTreeClassifier(max_depth=3, random_state=42)\n",
    "dTreeClf.fit(X=X_train, y=y_train)\n",
    "\n",
    "imp = dTreeClf.tree_.impurity[0]\n",
    "ftr = X_train.columns[dTreeClf.tree_.feature[0]]\n",
    "\n",
    "ftr, round(imp, 3)"
   ]
  },
  {
   "cell_type": "markdown",
   "metadata": {},
   "source": [
    "### D96 Q2. Most Misclassified DT"
   ]
  },
  {
   "cell_type": "code",
   "execution_count": 8,
   "metadata": {},
   "outputs": [
    {
     "name": "stdout",
     "output_type": "stream",
     "text": [
      "              precision    recall  f1-score   support\n",
      "\n",
      "       Bumps       0.39      0.39      0.39      1165\n",
      "   Dirtiness       0.14      0.18      0.16       107\n",
      "    K_Scatch       0.83      0.83      0.83       852\n",
      "Other_Faults       0.41      0.39      0.40      1671\n",
      "      Pastry       0.22      0.21      0.22       605\n",
      "      Stains       0.62      0.65      0.63       130\n",
      "   Z_Scratch       0.40      0.44      0.42       275\n",
      "\n",
      "    accuracy                           0.45      4805\n",
      "   macro avg       0.43      0.44      0.44      4805\n",
      "weighted avg       0.45      0.45      0.45      4805\n",
      "\n"
     ]
    }
   ],
   "source": [
    "from sklearn.metrics import classification_report\n",
    "\n",
    "X, y = df.drop(df.columns[-8:], axis='columns'), df['Target']\n",
    "X_train, X_test, y_train, y_test = train_test_split(X, y, test_size=0.25, random_state=42)\n",
    "\n",
    "from sklearn.tree import DecisionTreeClassifier\n",
    "dTreeClf = DecisionTreeClassifier(criterion='entropy', random_state=42, class_weight=\"balanced\")\n",
    "dTreeClf.fit(X=X_train, y=y_train)\n",
    "\n",
    "y_pred = dTreeClf.predict(X_test)\n",
    "\n",
    "import numpy as np\n",
    "report = classification_report(y_test, y_pred, target_names=np.unique(y_test))\n",
    "print(report)"
   ]
  },
  {
   "cell_type": "markdown",
   "metadata": {},
   "source": [
    "### D96 Q3"
   ]
  },
  {
   "cell_type": "code",
   "execution_count": 30,
   "metadata": {},
   "outputs": [
    {
     "name": "stdout",
     "output_type": "stream",
     "text": [
      "depth:  3 - Accuracy Mean: Train: 37.16%, Validation: 36.71%\tAccuracy Std: Train: 4.73%, Validation: 5.33%\n",
      "depth:  5 - Accuracy Mean: Train: 48.27%, Validation: 47.20%\tAccuracy Std: Train: 0.32%, Validation: 0.19%\n",
      "depth:  7 - Accuracy Mean: Train: 48.35%, Validation: 45.15%\tAccuracy Std: Train: 2.31%, Validation: 2.33%\n",
      "depth: 11 - Accuracy Mean: Train: 61.34%, Validation: 46.96%\tAccuracy Std: Train: 0.35%, Validation: 0.16%\n",
      "depth: 13 - Accuracy Mean: Train: 70.04%, Validation: 47.45%\tAccuracy Std: Train: 0.08%, Validation: 0.10%\n",
      "depth: 15 - Accuracy Mean: Train: 79.43%, Validation: 47.69%\tAccuracy Std: Train: 0.88%, Validation: 0.29%\n",
      "depth: 19 - Accuracy Mean: Train: 91.95%, Validation: 47.22%\tAccuracy Std: Train: 2.05%, Validation: 0.57%\n",
      "depth: 20 - Accuracy Mean: Train: 93.44%, Validation: 47.70%\tAccuracy Std: Train: 2.13%, Validation: 0.56%\n"
     ]
    }
   ],
   "source": [
    "depths = [3, 5, 7, 11, 13, 15, 19, 20]\n",
    "\n",
    "from sklearn.model_selection import cross_validate, KFold\n",
    "kf = KFold(n_splits=2)\n",
    "\n",
    "for d in depths:\n",
    "    model = DecisionTreeClassifier(random_state=42, class_weight='balanced', max_depth=d)\n",
    "    cv_acc_results = cross_validate(model, X_train, y_train, cv=kf, scoring='accuracy', return_train_score=True)\n",
    "    print(f\"depth: {d:2d} - Accuracy Mean: Train: {cv_acc_results['train_score'].mean() * 100:.2f}%, Validation: {cv_acc_results['test_score'].mean() * 100:.2f}%\", end=\"\\t\")\n",
    "    print(f\"Accuracy Std: Train: {cv_acc_results['train_score'].std() * 100:.2f}%, Validation: {cv_acc_results['test_score'].std() * 100:.2f}%\")\n",
    "    # print(\"\")"
   ]
  },
  {
   "cell_type": "markdown",
   "metadata": {},
   "source": [
    "Note: depth=5 has is best -- training accuracy is approx equal to testing accuracy"
   ]
  },
  {
   "cell_type": "code",
   "execution_count": null,
   "metadata": {},
   "outputs": [
    {
     "data": {
      "text/plain": [
       "Outside_X_Index       0.319797\n",
       "Pixels_Areas          0.294860\n",
       "Length_of_Conveyer    0.125352\n",
       "dtype: float64"
      ]
     },
     "execution_count": 36,
     "metadata": {},
     "output_type": "execute_result"
    }
   ],
   "source": [
    "d = 5\n",
    "model = DecisionTreeClassifier(random_state=42, class_weight='balanced', max_depth=d)\n",
    "\n",
    "model.fit(X_train, y_train)\n",
    "\n",
    "pd.Series(model.feature_importances_, index=X.columns).sort_values(ascending=False).iloc[:3]"
   ]
  },
  {
   "cell_type": "code",
   "execution_count": null,
   "metadata": {},
   "outputs": [],
   "source": []
  }
 ],
 "metadata": {
  "kernelspec": {
   "display_name": "Python 3",
   "language": "python",
   "name": "python3"
  },
  "language_info": {
   "codemirror_mode": {
    "name": "ipython",
    "version": 3
   },
   "file_extension": ".py",
   "mimetype": "text/x-python",
   "name": "python",
   "nbconvert_exporter": "python",
   "pygments_lexer": "ipython3",
   "version": "3.12.1"
  }
 },
 "nbformat": 4,
 "nbformat_minor": 2
}
